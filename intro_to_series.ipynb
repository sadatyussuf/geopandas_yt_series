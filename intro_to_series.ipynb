{
 "cells": [
  {
   "cell_type": "code",
   "execution_count": 41,
   "id": "2d8efbec-3dc7-46ef-b851-4fdb2996f052",
   "metadata": {},
   "outputs": [],
   "source": [
    "import pandas as pd\n",
    "import numpy as np"
   ]
  },
  {
   "cell_type": "markdown",
   "id": "103eab93-fa6f-4e77-9429-9d1d03879bd3",
   "metadata": {},
   "source": [
    "# Creating an Empty Series"
   ]
  },
  {
   "cell_type": "code",
   "execution_count": 42,
   "id": "265f50f1-a67e-4504-aa08-7acb5402fd58",
   "metadata": {},
   "outputs": [
    {
     "name": "stdout",
     "output_type": "stream",
     "text": [
      "Series([], dtype: object)\n"
     ]
    }
   ],
   "source": [
    "empty_series = pd.Series()\n",
    "print(empty_series)"
   ]
  },
  {
   "cell_type": "markdown",
   "id": "0dc97f42-86c0-4911-9a7c-51e99a1bd89b",
   "metadata": {},
   "source": [
    "# Creating a Series from a list"
   ]
  },
  {
   "cell_type": "code",
   "execution_count": 43,
   "id": "b99c3920-3a33-46c0-800e-5a2057ea5575",
   "metadata": {},
   "outputs": [
    {
     "name": "stdout",
     "output_type": "stream",
     "text": [
      "0    sadat\n",
      "1       10\n",
      "2       -3\n",
      "3      4.5\n",
      "4       5j\n",
      "dtype: object\n"
     ]
    }
   ],
   "source": [
    "list_data = [\"sadat\", 10, -3, 4.5, 5j]\n",
    "series_from_list = pd.Series(list_data)\n",
    "print(series_from_list)"
   ]
  },
  {
   "cell_type": "code",
   "execution_count": 9,
   "id": "ce66c9ff-2fb5-4dcf-b55f-f7420fc38b1e",
   "metadata": {
    "scrolled": true
   },
   "outputs": [
    {
     "name": "stdout",
     "output_type": "stream",
     "text": [
      "['sadat' 10 -3 4.5 5j]\n",
      "RangeIndex(start=0, stop=5, step=1)\n"
     ]
    }
   ],
   "source": [
    "print(series_from_list.values)\n",
    "print(series_from_list.index)"
   ]
  },
  {
   "cell_type": "markdown",
   "id": "e9bf3477-13fd-4783-a61f-da45c4b3a118",
   "metadata": {},
   "source": [
    "# Creating a Series with Index/Labels"
   ]
  },
  {
   "cell_type": "code",
   "execution_count": 10,
   "id": "903d5f20-5713-4424-82b1-ab9c0f1ab66b",
   "metadata": {},
   "outputs": [
    {
     "name": "stdout",
     "output_type": "stream",
     "text": [
      "Name       sadat\n",
      "Age           10\n",
      "Score         -3\n",
      "Pi           4.5\n",
      "Complex       5j\n",
      "dtype: object\n"
     ]
    }
   ],
   "source": [
    "# Creating a Series with custom index\n",
    "custom_index = ['Name', 'Age', 'Score', 'Pi', 'Complex']\n",
    "series_with_index = pd.Series(list_data, index=custom_index)\n",
    "print(series_with_index)"
   ]
  },
  {
   "cell_type": "markdown",
   "id": "96e7c3a0-6b65-491e-933d-e1b880208ca5",
   "metadata": {},
   "source": [
    "# Creating a Series from a Dictionary"
   ]
  },
  {
   "cell_type": "code",
   "execution_count": 11,
   "id": "4297d9eb-7396-434b-9611-0f86a7c5a59a",
   "metadata": {},
   "outputs": [
    {
     "name": "stdout",
     "output_type": "stream",
     "text": [
      "a    1\n",
      "b    2\n",
      "c    3\n",
      "d    4\n",
      "e    5\n",
      "dtype: int64\n"
     ]
    }
   ],
   "source": [
    "dict_data = {'a': 1, 'b': 2, 'c': 3, 'd': 4, 'e': 5}\n",
    "series_from_dict = pd.Series(dict_data)\n",
    "print(series_from_dict)"
   ]
  },
  {
   "cell_type": "markdown",
   "id": "113bdb5c-8f5e-4427-b6a4-f8820588391a",
   "metadata": {},
   "source": [
    "# Selecting  Elements in a Series"
   ]
  },
  {
   "cell_type": "code",
   "execution_count": 20,
   "id": "9d642452-801b-44b7-8d43-f4a3a876c66d",
   "metadata": {},
   "outputs": [
    {
     "name": "stdout",
     "output_type": "stream",
     "text": [
      "1\n",
      "---------------------------\n",
      "5\n"
     ]
    }
   ],
   "source": [
    "# Selecting elements by index label\n",
    "print(series_from_dict['a'])\n",
    "print('---------------------------')\n",
    "# Selecting elements by numerical position\n",
    "print(series_from_dict.iloc[4])"
   ]
  },
  {
   "cell_type": "markdown",
   "id": "e03717e0-92d1-43e8-b31f-b28f56489686",
   "metadata": {},
   "source": [
    "# Slicing a Series"
   ]
  },
  {
   "cell_type": "code",
   "execution_count": 46,
   "id": "bf7f1b64-1d69-4da7-b4b2-eabdea201617",
   "metadata": {},
   "outputs": [
    {
     "name": "stdout",
     "output_type": "stream",
     "text": [
      "a    100\n",
      "c      3\n",
      "dtype: int64\n",
      "---------------------------\n",
      "1     10\n",
      "2     -3\n",
      "3    4.5\n",
      "dtype: object\n",
      "---------------------------\n",
      "0    sadat\n",
      "1       10\n",
      "2       -3\n",
      "3      4.5\n",
      "4       5j\n",
      "dtype: object\n"
     ]
    }
   ],
   "source": [
    "# Slicing with index labels\n",
    "print(series_from_dict[['a', 'c']])\n",
    "print('---------------------------')\n",
    "# Slicing with position numbers\n",
    "print(series_from_list[1:4])\n",
    "print('---------------------------')\n",
    "print(series_from_list)"
   ]
  },
  {
   "cell_type": "markdown",
   "id": "cc543f19-1e8e-4124-ace5-c6436ff5f64c",
   "metadata": {},
   "source": [
    "# Updating Element Values"
   ]
  },
  {
   "cell_type": "code",
   "execution_count": 26,
   "id": "c61f83ac-eb4f-4328-8940-75fa3490632f",
   "metadata": {},
   "outputs": [
    {
     "name": "stdout",
     "output_type": "stream",
     "text": [
      "a    100\n",
      "b      2\n",
      "c      3\n",
      "d      4\n",
      "e   -500\n",
      "dtype: int64\n"
     ]
    }
   ],
   "source": [
    "# Updating element by index\n",
    "series_from_dict['a'] = 100\n",
    "series_from_dict.iloc[4] = -500\n",
    "\n",
    "print(series_from_dict)"
   ]
  },
  {
   "cell_type": "markdown",
   "id": "ecaf80a7-bbb1-432c-bd08-cad0f5028dcb",
   "metadata": {},
   "source": [
    "# Series Arithmetic Operations"
   ]
  },
  {
   "cell_type": "code",
   "execution_count": 28,
   "id": "86e931cd-0ef5-4cae-a0da-69ca802d2480",
   "metadata": {},
   "outputs": [
    {
     "name": "stdout",
     "output_type": "stream",
     "text": [
      "0     5\n",
      "1    10\n",
      "2    15\n",
      "3    20\n",
      "dtype: int64\n",
      "---------------------------\n",
      "0    1.0\n",
      "1    2.0\n",
      "2    3.0\n",
      "3    4.0\n",
      "dtype: float64\n"
     ]
    }
   ],
   "source": [
    "# Arithmetic operations on a Series\n",
    "numeric_series = pd.Series([5, 10, 15, 20])\n",
    "print(numeric_series)\n",
    "print('---------------------------')\n",
    "result = numeric_series / 5\n",
    "print(result)"
   ]
  },
  {
   "cell_type": "markdown",
   "id": "ce8b4f28-0864-4b59-b5fc-417273133ef4",
   "metadata": {},
   "source": [
    "# Mathematical Operations Between Series"
   ]
  },
  {
   "cell_type": "code",
   "execution_count": 47,
   "id": "2c52ffc8-45de-4a25-a049-025e298da3db",
   "metadata": {},
   "outputs": [
    {
     "name": "stdout",
     "output_type": "stream",
     "text": [
      "0    5.0\n",
      "1    7.0\n",
      "2    9.0\n",
      "3    NaN\n",
      "dtype: float64\n"
     ]
    }
   ],
   "source": [
    "# Adding two Series\n",
    "series1 = pd.Series([1, 2, 3])\n",
    "series2 = pd.Series([4, 5, 6,9])\n",
    "result = series1 + series2\n",
    "print(result)"
   ]
  },
  {
   "cell_type": "markdown",
   "id": "aa471d23-ab93-40df-bc93-a3582295d76a",
   "metadata": {},
   "source": [
    "# Handling NaN Values"
   ]
  },
  {
   "cell_type": "code",
   "execution_count": 49,
   "id": "0581b882-c883-430d-9e89-a30dc0c40087",
   "metadata": {},
   "outputs": [
    {
     "name": "stdout",
     "output_type": "stream",
     "text": [
      "0    1.0\n",
      "1    NaN\n",
      "2    3.0\n",
      "3    NaN\n",
      "4    5.0\n",
      "dtype: float64\n",
      "---------------------------\n",
      "0     True\n",
      "1    False\n",
      "2     True\n",
      "3    False\n",
      "4     True\n",
      "dtype: bool\n"
     ]
    }
   ],
   "source": [
    "# Handling NaN values\n",
    "series_with_nan = pd.Series([1, None, 3, None, 5])\n",
    "print(series_with_nan)\n",
    "print('---------------------------')\n",
    "# To check for NaN values , we can use isnull or notnull\n",
    "# print(series_with_nan.isnull())\n",
    "print(series_with_nan.notnull())"
   ]
  },
  {
   "cell_type": "markdown",
   "id": "2450e196-25c9-4862-83f4-a94f5c60922f",
   "metadata": {},
   "source": [
    "# Filtering a Series"
   ]
  },
  {
   "cell_type": "code",
   "execution_count": 50,
   "id": "cd286705-092f-49d1-b47b-d21571d2fb0b",
   "metadata": {},
   "outputs": [
    {
     "name": "stdout",
     "output_type": "stream",
     "text": [
      "0    1.0\n",
      "2    3.0\n",
      "4    5.0\n",
      "dtype: float64\n",
      "---------------------------\n",
      "4    5.0\n",
      "dtype: float64\n"
     ]
    }
   ],
   "source": [
    "# Filtering NaN values\n",
    "filtered_series = series_with_nan[series_with_nan.notnull()]\n",
    "print(filtered_series)\n",
    "print('---------------------------')\n",
    "# You can also filter based on numeric conditions:\n",
    "# Filtering values greater than 3\n",
    "print(series_with_nan[series_with_nan > 3])"
   ]
  },
  {
   "cell_type": "markdown",
   "id": "226710e3-7ed3-4c9c-8acf-34b5249ddf93",
   "metadata": {},
   "source": [
    "# Check for Unique Values "
   ]
  },
  {
   "cell_type": "code",
   "execution_count": 51,
   "id": "293f4d11-ad66-4836-af87-be14318c60f4",
   "metadata": {},
   "outputs": [
    {
     "name": "stdout",
     "output_type": "stream",
     "text": [
      "['sadat' 10 -3 4.5 5j]\n",
      "---------------------------\n",
      "sadat    1\n",
      "10       1\n",
      "-3       1\n",
      "4.5      1\n",
      "5j       1\n",
      "Name: count, dtype: int64\n"
     ]
    }
   ],
   "source": [
    "# Unique values in a Series\n",
    "print(series_from_list.unique())\n",
    "print('---------------------------')\n",
    "# Count occurrences of unique values\n",
    "print(series_from_list.value_counts())"
   ]
  },
  {
   "cell_type": "markdown",
   "id": "6839ead8-8e5f-494f-a2a9-53193e1097ce",
   "metadata": {},
   "source": [
    "# Check for Membership in a Series"
   ]
  },
  {
   "cell_type": "code",
   "execution_count": 39,
   "id": "748c8c5c-3dea-4175-8f7d-d2353b4a681c",
   "metadata": {},
   "outputs": [
    {
     "name": "stdout",
     "output_type": "stream",
     "text": [
      "0    False\n",
      "1     True\n",
      "2    False\n",
      "3    False\n",
      "4    False\n",
      "dtype: bool\n"
     ]
    }
   ],
   "source": [
    "# Check for membership\n",
    "print(series_from_list.isin([10, 3.14]))"
   ]
  }
 ],
 "metadata": {
  "kernelspec": {
   "display_name": "Python 3 (ipykernel)",
   "language": "python",
   "name": "python3"
  },
  "language_info": {
   "codemirror_mode": {
    "name": "ipython",
    "version": 3
   },
   "file_extension": ".py",
   "mimetype": "text/x-python",
   "name": "python",
   "nbconvert_exporter": "python",
   "pygments_lexer": "ipython3",
   "version": "3.12.4"
  }
 },
 "nbformat": 4,
 "nbformat_minor": 5
}
